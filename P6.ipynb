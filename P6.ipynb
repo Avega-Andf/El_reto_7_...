{
 "cells": [
  {
   "cell_type": "code",
   "execution_count": 15,
   "metadata": {},
   "outputs": [
    {
     "name": "stdout",
     "output_type": "stream",
     "text": [
      "Acaso el número es:50?\n",
      "Acaso el número es:55?\n",
      "Acaso el número es:60?\n",
      "Acaso el número es:65?\n",
      "Acaso el número es:66?\n",
      "¡He adivinado el número!\n"
     ]
    }
   ],
   "source": [
    "x = input(\"Piensa un número del 1 al 100, y cuando estés listo presiona enter para comenzar: \") #Al precionar la tecla enter comienza el codigo\n",
    "y = 50 #Se inicializa la variable en el numero 50, porque es el numero que se encuentra en la mitad en el rango de 1 a 100\n",
    "print(\"Acaso el número es:\" + str(y) + \"?\") #El codigo comienza preguntando si el numero que piensas es el 50, a partir de eso:\n",
    "Pregunta = input(\"El número que estás pensando es igual, poco menor , menor, poco mayor o mayor al que dije?: \")\n",
    "while Pregunta != str(\"igual\"): #Si se elige que es igual, el codigo se acaba e imprime que se adivino el numero\n",
    "    if Pregunta == \"poco menor\": #Si no es igual, y se digita que es menor se resta 1 al valor actual, y se vuelve a preguntar\n",
    "        y -= 1\n",
    "    elif Pregunta == \"poco mayor\": #Si no es igual, y se digita que es mayor se suma 1 al valor actual, y se vuelve a preguntar\n",
    "        y += 1\n",
    "    elif Pregunta == \"menor\": #Se añaden opciones diferentes como poco menor,poco mayor, mayor y menor para avanzar al numero que se piensa algo mas rapido o algo mas lento segun se acerca al numero\n",
    "        y -= 5\n",
    "    elif Pregunta == \"mayor\": #Al digitar mayor o menor se le suma 5 unidades a diferencia de digitar poco menor o poco mayor\n",
    "        y += 5\n",
    "    print(\"Acaso el número es:\" + str(y) + \"?\") #Por medio de este print se digita el nuevo numero\n",
    "    Pregunta = input(\"El número que estás pensando es igual, poco menor , menor, poco mayor o mayor al que dije?: \") #Por medio de este print se vuelve a preguntar\n",
    "print(\"¡He adivinado el número!\") #Fin del bucle cuando se digita que el numero es igual al pensado"
   ]
  }
 ],
 "metadata": {
  "language_info": {
   "name": "python"
  },
  "orig_nbformat": 4
 },
 "nbformat": 4,
 "nbformat_minor": 2
}
