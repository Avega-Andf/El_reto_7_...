{
 "cells": [
  {
   "cell_type": "code",
   "execution_count": 2,
   "metadata": {},
   "outputs": [
    {
     "name": "stdout",
     "output_type": "stream",
     "text": [
      "10.0\n",
      "90.0\n",
      "720.0\n",
      "5040.0\n",
      "30240.0\n",
      "151200.0\n",
      "604800.0\n",
      "1814400.0\n",
      "3628800.0\n",
      "El factorial del numero dado es: 3628800.0\n"
     ]
    }
   ],
   "source": [
    "n = float(input(\"ingrese un numero \")) #Se ingresa el numero al que se le quiere sacar el factorial\n",
    "x = n #El valor \"x\", sera el que multiplicara a la variable \"n\", y comenzara teniendo el mismo valor que \"n\"\n",
    "while x > 1: # El bucle va hasta que \"x\" llega 1, ya que si llega a 0, todo el bucle daria cero\n",
    "    print(n) #Se imprimen todos los resultados hasta llegar, al factorial del numero\n",
    "    x -= 1 #Se resta 1 a la variable \"x\"\n",
    "    n *= x # Se multiplica \"n\" por \"x\" ejm: Factorial de 4 = (4*4)*(4*3)*(4*2)*(4*1), siendo los numeros 4,3,2,1 la variable x, donde cada vez disminuye una unidad\n",
    "print (\"El factorial del numero dado es: \" +str(n) ) #Se imprime el ultimo valor de n, que seria el valor factorial"
   ]
  }
 ],
 "metadata": {
  "kernelspec": {
   "display_name": "Python 3",
   "language": "python",
   "name": "python3"
  },
  "language_info": {
   "codemirror_mode": {
    "name": "ipython",
    "version": 3
   },
   "file_extension": ".py",
   "mimetype": "text/x-python",
   "name": "python",
   "nbconvert_exporter": "python",
   "pygments_lexer": "ipython3",
   "version": "3.11.2"
  },
  "orig_nbformat": 4
 },
 "nbformat": 4,
 "nbformat_minor": 2
}
