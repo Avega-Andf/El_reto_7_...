{
 "cells": [
  {
   "cell_type": "code",
   "execution_count": 3,
   "metadata": {},
   "outputs": [
    {
     "name": "stdout",
     "output_type": "stream",
     "text": [
      "1 Es divisor de 42\n",
      "2 Es divisor de 42\n",
      "3 Es divisor de 42\n",
      "6 Es divisor de 42\n",
      "7 Es divisor de 42\n",
      "14 Es divisor de 42\n",
      "21 Es divisor de 42\n",
      "42 Es divisor de 42\n"
     ]
    }
   ],
   "source": [
    "x = int(input(\"Ingrese un numero mayor o igual a 2 y menor o igual que 50\")) #Se ingresa el valor al que se le quiere sacar los divisores, pero debe ser un valor que este entro 2 y 50, incluyendolos\n",
    "D = 1 #Se inicializa esta variable en 1,Este valor \"D\" seran los posibles divisores que tiene \"x\"\n",
    "if x<2 or x>50: #Si la variable que se ingresa no pertenece al rango establecido se imprime un mensaje notificando eso\n",
    "    print(\"El numero no pertenece al rango entre 2 y 50\")\n",
    "while D <= x: #El bucle se termina hasta que \"D\" tenga el mismo valor que la variable \"x\"\n",
    "    if x < 2 or x > 50: #Si la variable que se ingresa no pertenece al rango se rompe la cadena while\n",
    "        break\n",
    "    if x % D == 0: # Si el modulo entre \"x\" y \"D\", es cero, el valor D es divisor de \"x\"\n",
    "        print(str(D)+ \" Es divisor de \" +str(x)) #Y se imprime que \"D\" es divisor de \"x\"\n",
    "    D += 1 # Se suma el valor de \"D\", hasta que llegue al valor de \"x\""
   ]
  }
 ],
 "metadata": {
  "kernelspec": {
   "display_name": "Python 3",
   "language": "python",
   "name": "python3"
  },
  "language_info": {
   "codemirror_mode": {
    "name": "ipython",
    "version": 3
   },
   "file_extension": ".py",
   "mimetype": "text/x-python",
   "name": "python",
   "nbconvert_exporter": "python",
   "pygments_lexer": "ipython3",
   "version": "3.11.2"
  },
  "orig_nbformat": 4
 },
 "nbformat": 4,
 "nbformat_minor": 2
}
