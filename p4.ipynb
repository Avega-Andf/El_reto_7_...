{
 "cells": [
  {
   "cell_type": "code",
   "execution_count": 5,
   "metadata": {},
   "outputs": [
    {
     "name": "stdout",
     "output_type": "stream",
     "text": [
      "Año: 1, Poblacion A: 25.0, Población B 18.9\n",
      "Año: 2, Poblacion A: 25.5, Población B 19.47\n",
      "Año: 3, Poblacion A: 26.01, Población B 20.05\n",
      "Año: 4, Poblacion A: 26.53, Población B 20.65\n",
      "Año: 5, Poblacion A: 27.06, Población B 21.27\n",
      "Año: 6, Poblacion A: 27.6, Población B 21.91\n",
      "Año: 7, Poblacion A: 28.15, Población B 22.57\n",
      "Año: 8, Poblacion A: 28.72, Población B 23.24\n",
      "Año: 9, Poblacion A: 29.29, Población B 23.94\n",
      "Año: 10, Poblacion A: 29.88, Población B 24.66\n",
      "Año: 11, Poblacion A: 30.47, Población B 25.4\n",
      "Año: 12, Poblacion A: 31.08, Población B 26.16\n",
      "Año: 13, Poblacion A: 31.71, Población B 26.95\n",
      "Año: 14, Poblacion A: 32.34, Población B 27.76\n",
      "Año: 15, Poblacion A: 32.99, Población B 28.59\n",
      "Año: 16, Poblacion A: 33.65, Población B 29.45\n",
      "Año: 17, Poblacion A: 34.32, Población B 30.33\n",
      "Año: 18, Poblacion A: 35.01, Población B 31.24\n",
      "Año: 19, Poblacion A: 35.71, Población B 32.18\n",
      "Año: 20, Poblacion A: 36.42, Población B 33.14\n",
      "Año: 21, Poblacion A: 37.15, Población B 34.14\n",
      "Año: 22, Poblacion A: 37.89, Población B 35.16\n",
      "Año: 23, Poblacion A: 38.65, Población B 36.21\n",
      "Año: 24, Poblacion A: 39.42, Población B 37.3\n",
      "Año: 25, Poblacion A: 40.21, Población B 38.42\n",
      "Año: 26, Poblacion A: 41.02, Población B 39.57\n",
      "Año: 27, Poblacion A: 41.84, Población B 40.76\n",
      "Año: 28, Poblacion A: 42.67, Población B 41.98\n",
      "Año: 29, Poblacion A: 43.53, Población B 43.24\n",
      "Fin.\n",
      "Despues de 30 años, la segunda poblacion es mayor que la primera, poblacion de A: 44.4 Poblacion de B: 44.54\n"
     ]
    }
   ],
   "source": [
    "A = 25.0 # inicializa el valor de la poblacion A en 25 millones\n",
    "B = 18.9 # inicializa el valor de la poblacion B en  18,9 millones\n",
    "Año = 1 # Año inicial \n",
    "while B < A: # El condicional sera mientras B sea menor que A\n",
    "  print(\"Año: \" +str(Año) + \", Poblacion A: \" + str(round(A,2)) + \", Población B \"+ str(round(B,2))) # Se imprimen los valores A y B, y la cantidad de años que han transcurrido\n",
    "  A *= 1.02 # A se multıplica por 1.02, que seria aumentarle un 2% \n",
    "  B *= 1.03 # B se multıplica por 1.03, que seria aumentarle un 3% \n",
    "  Año += 1 # El año aumenta\n",
    "print(\"Fin.\") # Se imprime al terminar el ciclo while\n",
    "print(\"Despues de \" +str(Año)+ \" años, la segunda poblacion es mayor que la primera, poblacion de A: \" +str(round(A,2)) + \" Poblacion de B: \" + str(round(B,2))) # Se imprimen los ultimos valores y el año en donde ahora  la poblacion B es mayor que la de A\n"
   ]
  }
 ],
 "metadata": {
  "kernelspec": {
   "display_name": "Python 3",
   "language": "python",
   "name": "python3"
  },
  "language_info": {
   "codemirror_mode": {
    "name": "ipython",
    "version": 3
   },
   "file_extension": ".py",
   "mimetype": "text/x-python",
   "name": "python",
   "nbconvert_exporter": "python",
   "pygments_lexer": "ipython3",
   "version": "3.11.2"
  },
  "orig_nbformat": 4
 },
 "nbformat": 4,
 "nbformat_minor": 2
}
